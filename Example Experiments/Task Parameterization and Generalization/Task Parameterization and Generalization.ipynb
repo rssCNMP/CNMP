{
 "cells": [
  {
   "cell_type": "code",
   "execution_count": null,
   "metadata": {},
   "outputs": [],
   "source": [
    "import os\n",
    "os.environ[\"CUDA_DEVICE_ORDER\"] = \"PCI_BUS_ID\"\n",
    "os.environ[\"CUDA_VISIBLE_DEVICES\"] = \"\"\n",
    "import tensorflow as tf\n",
    "import numpy as np\n",
    "import tensorflow_probability as tfp\n",
    "import matplotlib.pyplot as plt\n",
    "import math\n",
    "import random\n",
    "from keras.models import Sequential,Model\n",
    "from keras.layers import TimeDistributed,Dense,Activation,Layer,Input,Average,Concatenate,Flatten,Lambda\n",
    "from keras.optimizers import Adam\n",
    "import pylab as pl\n",
    "from IPython import display"
   ]
  },
  {
   "cell_type": "code",
   "execution_count": null,
   "metadata": {},
   "outputs": [],
   "source": [
    "d_N = 8\n",
    "n_max=5\n",
    "train_joints = np.load('joints.npy')\n",
    "train_n = np.load('sizes.npy')\n",
    "train_t = np.load('timestamps.npy')\n",
    "train_p = np.load('parameters.npy')"
   ]
  },
  {
   "cell_type": "code",
   "execution_count": null,
   "metadata": {},
   "outputs": [],
   "source": [
    "def get_train_sample():\n",
    "    observation = np.zeros((1,n_max,9))\n",
    "    observation_flag = np.zeros((1,1,n_max))\n",
    "    target = np.zeros((1,1,3))\n",
    "    gamma = random.randint(0,d_N-1)\n",
    "    ob_p = train_p[gamma,0]\n",
    "    w_p = train_p[gamma,1]\n",
    "    obs_n = random.randint(1,n_max)\n",
    "    \n",
    "    perm = np.random.permutation(train_n[gamma])\n",
    "    \n",
    "    for i in range(obs_n):\n",
    "        observation[0,i] = [train_t[gamma,perm[i]],\n",
    "                            (ob_p+1)/3.,\n",
    "                            (w_p+1)/4.,\n",
    "                            train_joints[gamma,0,perm[i]],\n",
    "                            train_joints[gamma,1,perm[i]],\n",
    "                            train_joints[gamma,2,perm[i]],\n",
    "                            train_joints[gamma,3,perm[i]],\n",
    "                            train_joints[gamma,4,perm[i]],\n",
    "                            train_joints[gamma,5,perm[i]],\n",
    "                           ]\n",
    "        observation_flag[0,0,i] = 1./obs_n\n",
    "    target[0,0] = [train_t[gamma,perm[obs_n]], (ob_p+1)/3., (w_p+1)/4.]\n",
    "    return [observation,observation_flag,target], \\\n",
    "            [[[[train_joints[gamma,0,perm[obs_n]],\n",
    "                train_joints[gamma,1,perm[obs_n]],\n",
    "                train_joints[gamma,2,perm[obs_n]],\n",
    "                train_joints[gamma,3,perm[obs_n]],\n",
    "                train_joints[gamma,4,perm[obs_n]],\n",
    "                train_joints[gamma,5,perm[obs_n]],\n",
    "                0.,0.,0.,0.,0.,0.]]]],gamma"
   ]
  },
  {
   "cell_type": "code",
   "execution_count": null,
   "metadata": {},
   "outputs": [],
   "source": [
    "def plt_predictions(gamma=1): \n",
    "    ob_p=train_p[gamma,0]\n",
    "    w_p=train_p[gamma,1]\n",
    "    prediction = np.zeros((6,train_n[gamma]))\n",
    "    prediction_std = np.zeros((6,train_n[gamma]))\n",
    "    observation = np.zeros((1,n_max,9))\n",
    "    observation_flag = np.zeros((1,1,n_max))\n",
    "    target = np.zeros((1,1,3))\n",
    "    observation[0,0] = [0,(ob_p+1)/3.,(w_p+1)/4.,\n",
    "                        train_joints[gamma,0,0],\n",
    "                        train_joints[gamma,1,0],\n",
    "                        train_joints[gamma,2,0],\n",
    "                        train_joints[gamma,3,0],\n",
    "                        train_joints[gamma,4,0],\n",
    "                        train_joints[gamma,5,0]]\n",
    "    observation_flag[0,0,0] = 1.\n",
    "    joint_names = ['Base Joint (rad)','Shoulder Joint (rad)','Elbow Joint (rad)','Wrist1 Joint (rad)','Wrist2 Joint (rad)','Wrist3 Joint (rad)',]        \n",
    "    for i in range(train_n[gamma]):\n",
    "        target[0,0] = [train_t[gamma,i],(ob_p+1)/3.,(w_p+1)/4.]\n",
    "        p = model.predict([observation,observation_flag,target])[0][0]\n",
    "        prediction[:,i] = p[:6]\n",
    "        for j in range(6):\n",
    "            prediction_std[j,i] = math.log(1+math.exp(p[6+j]))\n",
    "    for joint in range(6):\n",
    "        fig = plt.figure(figsize=(5,5))\n",
    "        plt.title(joint_names[joint])\n",
    "        if joint == 4:\n",
    "            plt.ylim(-1.35,-1.75)\n",
    "        for i in range(d_N):\n",
    "            plt.plot(range(train_n[i]),train_joints[i,joint,:train_n[i]])\n",
    "        plt.plot(range(train_n[gamma]),prediction[joint,:train_n[gamma]],color='red')\n",
    "        plt.errorbar(range(train_n[gamma]),prediction[joint,:train_n[gamma]],yerr=prediction_std[2,:train_n[gamma]],color = 'red',alpha=0.1)\n",
    "        plt.show()"
   ]
  },
  {
   "cell_type": "code",
   "execution_count": null,
   "metadata": {},
   "outputs": [],
   "source": [
    "def custom_loss(y_true, y_pred):\n",
    "    mean, log_sigma = tf.split(y_pred, 2, axis=-1)\n",
    "    y_target, temp =tf.split(y_true,2,axis=-1)\n",
    "    sigma = tf.nn.softplus(log_sigma)\n",
    "    dist = tfp.distributions.MultivariateNormalDiag(loc=mean, scale_diag=sigma)\n",
    "    loss = -tf.reduce_mean(dist.log_prob(y_target))\n",
    "    return loss"
   ]
  },
  {
   "cell_type": "code",
   "execution_count": null,
   "metadata": {},
   "outputs": [],
   "source": [
    "observation_layer = Input(shape=(n_max,9))\n",
    "observation_flag_layer=Input(shape=(1,n_max)) \n",
    "observation_encoded = TimeDistributed(Dense(128, activation='relu'))(observation_layer)\n",
    "observation_encoded = TimeDistributed(Dense(128, activation='relu'))(observation_encoded)\n",
    "observation_encoded = TimeDistributed(Dense(128, activation='relu'))(observation_encoded)\n",
    "observation_encoded = TimeDistributed(Dense(128, activation='relu'))(observation_encoded)\n",
    "observation_encoded = TimeDistributed(Dense(128))(observation_encoded)\n",
    "matmul_layer=Lambda(lambda x:(tf.matmul(x[0],x[1])), output_shape =(1,128))\n",
    "representation=matmul_layer([observation_flag_layer,observation_encoded])\n",
    "target_layer = Input(shape=(1,3))\n",
    "query_net_input = Concatenate(axis=2)([representation, target_layer])\n",
    "query = Dense(128, activation='relu')(query_net_input)\n",
    "query = Dense(128, activation='relu')(query)\n",
    "query = Dense(128, activation='relu')(query)\n",
    "query = Dense(128, activation='relu')(query)\n",
    "output_layer = Dense(12)(query)\n",
    "model = Model(inputs=[observation_layer,observation_flag_layer,target_layer],outputs=output_layer)\n",
    "model.compile(optimizer = Adam(lr = 1e-4),loss=custom_loss)\n",
    "model.summary()"
   ]
  },
  {
   "cell_type": "code",
   "execution_count": null,
   "metadata": {
    "scrolled": false
   },
   "outputs": [],
   "source": [
    "train_loss = np.zeros(2000)\n",
    "max_iterations=2000000\n",
    "for step in range(max_iterations):\n",
    "    inp,out,gamma = get_train_sample()\n",
    "    data = model.fit(inp,out,batch_size=1,verbose=0)\n",
    "    if step % 1000 == 0:\n",
    "        train_loss[step/1000] = data.history['loss'][0]\n",
    "    if step % 10000 == 0:\n",
    "        display.clear_output(wait=True)\n",
    "        display.display(pl.gcf())\n",
    "        print 'step:', step\n",
    "        print 'loss:', data.history['loss'][0]\n",
    "        plt.title('Train Loss')\n",
    "        plt.plot(range(2000),train_loss)\n",
    "        plt.show()\n",
    "        mean_loss = np.zeros((100))\n",
    "        for i in range(100):\n",
    "            mean_loss[i] = np.mean(train_loss[i*20:(i+1)*20])\n",
    "        fig = plt.figure()\n",
    "        plt.title('Train Loss (Smoothed)')\n",
    "        plt.plot(range(100),mean_loss)\n",
    "        plt.show()\n",
    "        plt_predictions(1)"
   ]
  },
  {
   "cell_type": "code",
   "execution_count": null,
   "metadata": {},
   "outputs": [],
   "source": []
  }
 ],
 "metadata": {
  "kernelspec": {
   "display_name": "Python 2",
   "language": "python",
   "name": "python2"
  },
  "language_info": {
   "codemirror_mode": {
    "name": "ipython",
    "version": 2
   },
   "file_extension": ".py",
   "mimetype": "text/x-python",
   "name": "python",
   "nbconvert_exporter": "python",
   "pygments_lexer": "ipython2",
   "version": "2.7.12"
  }
 },
 "nbformat": 4,
 "nbformat_minor": 2
}
